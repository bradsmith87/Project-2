{
 "metadata": {
  "language_info": {
   "codemirror_mode": {
    "name": "ipython",
    "version": 3
   },
   "file_extension": ".py",
   "mimetype": "text/x-python",
   "name": "python",
   "nbconvert_exporter": "python",
   "pygments_lexer": "ipython3",
   "version": "3.7.6-final"
  },
  "orig_nbformat": 2,
  "kernelspec": {
   "name": "python3",
   "display_name": "Python 3",
   "language": "python"
  }
 },
 "nbformat": 4,
 "nbformat_minor": 2,
 "cells": [
  {
   "cell_type": "code",
   "execution_count": 109,
   "metadata": {},
   "outputs": [],
   "source": [
    "#Dependencies\n",
    "from splinter import Browser\n",
    "from bs4 import BeautifulSoup as bs\n",
    "import pandas as pd\n"
   ]
  },
  {
   "cell_type": "code",
   "execution_count": 110,
   "metadata": {},
   "outputs": [],
   "source": [
    "url1 = 'https://www.timeanddate.com/weather/?sort=1&low=c'\n"
   ]
  },
  {
   "cell_type": "code",
   "execution_count": 111,
   "metadata": {},
   "outputs": [
    {
     "output_type": "execute_result",
     "data": {
      "text/plain": [
       "[    Local Time and Weather in Capitals Around the World Sort By: CityCountryTimeTemperatureCities Shown: Capitals (215)Most Popular (143)Popular (356)Somewhat Popular (469)  \\\n",
       " 0                                      Albania, Tirana                                                                                                                         \n",
       " 1                                     Algeria, Algiers                                                                                                                         \n",
       " 2                                       Angola, Luanda                                                                                                                         \n",
       " 3                    Antigua and Barbuda, Saint John's                                                                                                                         \n",
       " 4                              Argentina, Buenos Aires                                                                                                                         \n",
       " ..                                                 ...                                                                                                                         \n",
       " 182                   Vatican City State, Vatican City                                                                                                                         \n",
       " 183                                 Venezuela, Caracas                                                                                                                         \n",
       " 184                                     Vietnam, Hanoi                                                                                                                         \n",
       " 185                                     Zambia, Lusaka                                                                                                                         \n",
       " 186                                   Zimbabwe, Harare                                                                                                                         \n",
       " \n",
       "     Local Time and Weather in Capitals Around the World Sort By: CityCountryTimeTemperatureCities Shown: Capitals (215)Most Popular (143)Popular (356)Somewhat Popular (469).1  \\\n",
       " 0                                         Mon 11:48 am                                                                                                                           \n",
       " 1                                         Mon 11:48 am                                                                                                                           \n",
       " 2                                         Mon 11:48 am                                                                                                                           \n",
       " 3                                          Mon 6:48 am                                                                                                                           \n",
       " 4                                          Mon 7:48 am                                                                                                                           \n",
       " ..                                                 ...                                                                                                                           \n",
       " 182                                       Mon 11:48 am                                                                                                                           \n",
       " 183                                        Mon 6:48 am                                                                                                                           \n",
       " 184                                        Mon 5:48 pm                                                                                                                           \n",
       " 185                                       Mon 12:48 pm                                                                                                                           \n",
       " 186                                       Mon 12:48 pm                                                                                                                           \n",
       " \n",
       "      Local Time and Weather in Capitals Around the World Sort By: CityCountryTimeTemperatureCities Shown: Capitals (215)Most Popular (143)Popular (356)Somewhat Popular (469).2  \\\n",
       " 0                                                  NaN                                                                                                                            \n",
       " 1                                                  NaN                                                                                                                            \n",
       " 2                                                  NaN                                                                                                                            \n",
       " 3                                                  NaN                                                                                                                            \n",
       " 4                                                  NaN                                                                                                                            \n",
       " ..                                                 ...                                                                                                                            \n",
       " 182                                                NaN                                                                                                                            \n",
       " 183                                                NaN                                                                                                                            \n",
       " 184                                                NaN                                                                                                                            \n",
       " 185                                                NaN                                                                                                                            \n",
       " 186                                                NaN                                                                                                                            \n",
       " \n",
       "     Local Time and Weather in Capitals Around the World Sort By: CityCountryTimeTemperatureCities Shown: Capitals (215)Most Popular (143)Popular (356)Somewhat Popular (469).3  \n",
       " 0                                                13 °C                                                                                                                          \n",
       " 1                                                12 °C                                                                                                                          \n",
       " 2                                                29 °C                                                                                                                          \n",
       " 3                                                25 °C                                                                                                                          \n",
       " 4                                                19 °C                                                                                                                          \n",
       " ..                                                 ...                                                                                                                          \n",
       " 182                                               6 °C                                                                                                                          \n",
       " 183                                              25 °C                                                                                                                          \n",
       " 184                                              15 °C                                                                                                                          \n",
       " 185                                                NaN                                                                                                                          \n",
       " 186                                                NaN                                                                                                                          \n",
       " \n",
       " [187 rows x 4 columns]]"
      ]
     },
     "metadata": {},
     "execution_count": 111
    }
   ],
   "source": [
    " tables = pd.read_html(url1)\n",
    "tables"
   ]
  },
  {
   "cell_type": "code",
   "execution_count": 113,
   "metadata": {},
   "outputs": [
    {
     "output_type": "execute_result",
     "data": {
      "text/plain": [
       "                               Country          Date  Time Temperature\n",
       "0                      Albania, Tirana  Mon 11:48 am   NaN       13 °C\n",
       "1                     Algeria, Algiers  Mon 11:48 am   NaN       12 °C\n",
       "2                       Angola, Luanda  Mon 11:48 am   NaN       29 °C\n",
       "3    Antigua and Barbuda, Saint John's   Mon 6:48 am   NaN       25 °C\n",
       "4              Argentina, Buenos Aires   Mon 7:48 am   NaN       19 °C\n",
       "..                                 ...           ...   ...         ...\n",
       "182   Vatican City State, Vatican City  Mon 11:48 am   NaN        6 °C\n",
       "183                 Venezuela, Caracas   Mon 6:48 am   NaN       25 °C\n",
       "184                     Vietnam, Hanoi   Mon 5:48 pm   NaN       15 °C\n",
       "185                     Zambia, Lusaka  Mon 12:48 pm   NaN         NaN\n",
       "186                   Zimbabwe, Harare  Mon 12:48 pm   NaN         NaN\n",
       "\n",
       "[187 rows x 4 columns]"
      ],
      "text/html": "<div>\n<style scoped>\n    .dataframe tbody tr th:only-of-type {\n        vertical-align: middle;\n    }\n\n    .dataframe tbody tr th {\n        vertical-align: top;\n    }\n\n    .dataframe thead th {\n        text-align: right;\n    }\n</style>\n<table border=\"1\" class=\"dataframe\">\n  <thead>\n    <tr style=\"text-align: right;\">\n      <th></th>\n      <th>Country</th>\n      <th>Date</th>\n      <th>Time</th>\n      <th>Temperature</th>\n    </tr>\n  </thead>\n  <tbody>\n    <tr>\n      <th>0</th>\n      <td>Albania, Tirana</td>\n      <td>Mon 11:48 am</td>\n      <td>NaN</td>\n      <td>13 °C</td>\n    </tr>\n    <tr>\n      <th>1</th>\n      <td>Algeria, Algiers</td>\n      <td>Mon 11:48 am</td>\n      <td>NaN</td>\n      <td>12 °C</td>\n    </tr>\n    <tr>\n      <th>2</th>\n      <td>Angola, Luanda</td>\n      <td>Mon 11:48 am</td>\n      <td>NaN</td>\n      <td>29 °C</td>\n    </tr>\n    <tr>\n      <th>3</th>\n      <td>Antigua and Barbuda, Saint John's</td>\n      <td>Mon 6:48 am</td>\n      <td>NaN</td>\n      <td>25 °C</td>\n    </tr>\n    <tr>\n      <th>4</th>\n      <td>Argentina, Buenos Aires</td>\n      <td>Mon 7:48 am</td>\n      <td>NaN</td>\n      <td>19 °C</td>\n    </tr>\n    <tr>\n      <th>...</th>\n      <td>...</td>\n      <td>...</td>\n      <td>...</td>\n      <td>...</td>\n    </tr>\n    <tr>\n      <th>182</th>\n      <td>Vatican City State, Vatican City</td>\n      <td>Mon 11:48 am</td>\n      <td>NaN</td>\n      <td>6 °C</td>\n    </tr>\n    <tr>\n      <th>183</th>\n      <td>Venezuela, Caracas</td>\n      <td>Mon 6:48 am</td>\n      <td>NaN</td>\n      <td>25 °C</td>\n    </tr>\n    <tr>\n      <th>184</th>\n      <td>Vietnam, Hanoi</td>\n      <td>Mon 5:48 pm</td>\n      <td>NaN</td>\n      <td>15 °C</td>\n    </tr>\n    <tr>\n      <th>185</th>\n      <td>Zambia, Lusaka</td>\n      <td>Mon 12:48 pm</td>\n      <td>NaN</td>\n      <td>NaN</td>\n    </tr>\n    <tr>\n      <th>186</th>\n      <td>Zimbabwe, Harare</td>\n      <td>Mon 12:48 pm</td>\n      <td>NaN</td>\n      <td>NaN</td>\n    </tr>\n  </tbody>\n</table>\n<p>187 rows × 4 columns</p>\n</div>"
     },
     "metadata": {},
     "execution_count": 113
    }
   ],
   "source": [
    "df = tables[0]\n",
    "df.columns = ['Country', 'Date', 'Time', \"Temperature\"]\n",
    "df"
   ]
  },
  {
   "cell_type": "code",
   "execution_count": 114,
   "metadata": {},
   "outputs": [],
   "source": [
    "del df[\"Time\"]\n",
    "del df[\"Date\"]"
   ]
  },
  {
   "cell_type": "code",
   "execution_count": 115,
   "metadata": {},
   "outputs": [
    {
     "output_type": "execute_result",
     "data": {
      "text/plain": [
       "                               Country Temperature\n",
       "0                      Albania, Tirana       13 °C\n",
       "1                     Algeria, Algiers       12 °C\n",
       "2                       Angola, Luanda       29 °C\n",
       "3    Antigua and Barbuda, Saint John's       25 °C\n",
       "4              Argentina, Buenos Aires       19 °C\n",
       "..                                 ...         ...\n",
       "182   Vatican City State, Vatican City        6 °C\n",
       "183                 Venezuela, Caracas       25 °C\n",
       "184                     Vietnam, Hanoi       15 °C\n",
       "185                     Zambia, Lusaka         NaN\n",
       "186                   Zimbabwe, Harare         NaN\n",
       "\n",
       "[187 rows x 2 columns]"
      ],
      "text/html": "<div>\n<style scoped>\n    .dataframe tbody tr th:only-of-type {\n        vertical-align: middle;\n    }\n\n    .dataframe tbody tr th {\n        vertical-align: top;\n    }\n\n    .dataframe thead th {\n        text-align: right;\n    }\n</style>\n<table border=\"1\" class=\"dataframe\">\n  <thead>\n    <tr style=\"text-align: right;\">\n      <th></th>\n      <th>Country</th>\n      <th>Temperature</th>\n    </tr>\n  </thead>\n  <tbody>\n    <tr>\n      <th>0</th>\n      <td>Albania, Tirana</td>\n      <td>13 °C</td>\n    </tr>\n    <tr>\n      <th>1</th>\n      <td>Algeria, Algiers</td>\n      <td>12 °C</td>\n    </tr>\n    <tr>\n      <th>2</th>\n      <td>Angola, Luanda</td>\n      <td>29 °C</td>\n    </tr>\n    <tr>\n      <th>3</th>\n      <td>Antigua and Barbuda, Saint John's</td>\n      <td>25 °C</td>\n    </tr>\n    <tr>\n      <th>4</th>\n      <td>Argentina, Buenos Aires</td>\n      <td>19 °C</td>\n    </tr>\n    <tr>\n      <th>...</th>\n      <td>...</td>\n      <td>...</td>\n    </tr>\n    <tr>\n      <th>182</th>\n      <td>Vatican City State, Vatican City</td>\n      <td>6 °C</td>\n    </tr>\n    <tr>\n      <th>183</th>\n      <td>Venezuela, Caracas</td>\n      <td>25 °C</td>\n    </tr>\n    <tr>\n      <th>184</th>\n      <td>Vietnam, Hanoi</td>\n      <td>15 °C</td>\n    </tr>\n    <tr>\n      <th>185</th>\n      <td>Zambia, Lusaka</td>\n      <td>NaN</td>\n    </tr>\n    <tr>\n      <th>186</th>\n      <td>Zimbabwe, Harare</td>\n      <td>NaN</td>\n    </tr>\n  </tbody>\n</table>\n<p>187 rows × 2 columns</p>\n</div>"
     },
     "metadata": {},
     "execution_count": 115
    }
   ],
   "source": [
    "df"
   ]
  },
  {
   "cell_type": "code",
   "execution_count": 116,
   "metadata": {},
   "outputs": [
    {
     "output_type": "execute_result",
     "data": {
      "text/plain": [
       "                 Country Temperature              B\n",
       "0                Albania       13 °C         Tirana\n",
       "1                Algeria       12 °C        Algiers\n",
       "2                 Angola       29 °C         Luanda\n",
       "3    Antigua and Barbuda       25 °C   Saint John's\n",
       "4              Argentina       19 °C   Buenos Aires\n",
       "..                   ...         ...            ...\n",
       "182   Vatican City State        6 °C   Vatican City\n",
       "183            Venezuela       25 °C        Caracas\n",
       "184              Vietnam       15 °C          Hanoi\n",
       "185               Zambia         NaN         Lusaka\n",
       "186             Zimbabwe         NaN         Harare\n",
       "\n",
       "[187 rows x 3 columns]"
      ],
      "text/html": "<div>\n<style scoped>\n    .dataframe tbody tr th:only-of-type {\n        vertical-align: middle;\n    }\n\n    .dataframe tbody tr th {\n        vertical-align: top;\n    }\n\n    .dataframe thead th {\n        text-align: right;\n    }\n</style>\n<table border=\"1\" class=\"dataframe\">\n  <thead>\n    <tr style=\"text-align: right;\">\n      <th></th>\n      <th>Country</th>\n      <th>Temperature</th>\n      <th>B</th>\n    </tr>\n  </thead>\n  <tbody>\n    <tr>\n      <th>0</th>\n      <td>Albania</td>\n      <td>13 °C</td>\n      <td>Tirana</td>\n    </tr>\n    <tr>\n      <th>1</th>\n      <td>Algeria</td>\n      <td>12 °C</td>\n      <td>Algiers</td>\n    </tr>\n    <tr>\n      <th>2</th>\n      <td>Angola</td>\n      <td>29 °C</td>\n      <td>Luanda</td>\n    </tr>\n    <tr>\n      <th>3</th>\n      <td>Antigua and Barbuda</td>\n      <td>25 °C</td>\n      <td>Saint John's</td>\n    </tr>\n    <tr>\n      <th>4</th>\n      <td>Argentina</td>\n      <td>19 °C</td>\n      <td>Buenos Aires</td>\n    </tr>\n    <tr>\n      <th>...</th>\n      <td>...</td>\n      <td>...</td>\n      <td>...</td>\n    </tr>\n    <tr>\n      <th>182</th>\n      <td>Vatican City State</td>\n      <td>6 °C</td>\n      <td>Vatican City</td>\n    </tr>\n    <tr>\n      <th>183</th>\n      <td>Venezuela</td>\n      <td>25 °C</td>\n      <td>Caracas</td>\n    </tr>\n    <tr>\n      <th>184</th>\n      <td>Vietnam</td>\n      <td>15 °C</td>\n      <td>Hanoi</td>\n    </tr>\n    <tr>\n      <th>185</th>\n      <td>Zambia</td>\n      <td>NaN</td>\n      <td>Lusaka</td>\n    </tr>\n    <tr>\n      <th>186</th>\n      <td>Zimbabwe</td>\n      <td>NaN</td>\n      <td>Harare</td>\n    </tr>\n  </tbody>\n</table>\n<p>187 rows × 3 columns</p>\n</div>"
     },
     "metadata": {},
     "execution_count": 116
    }
   ],
   "source": [
    "df[['Country', 'B']] = df['Country'].str.split(',', 1, expand=True)\n",
    "df"
   ]
  },
  {
   "cell_type": "code",
   "execution_count": 117,
   "metadata": {},
   "outputs": [],
   "source": [
    "del df[\"B\"]"
   ]
  },
  {
   "cell_type": "code",
   "execution_count": 118,
   "metadata": {},
   "outputs": [
    {
     "output_type": "execute_result",
     "data": {
      "text/plain": [
       "                 Country Temperature\n",
       "0                Albania       13 °C\n",
       "1                Algeria       12 °C\n",
       "2                 Angola       29 °C\n",
       "3    Antigua and Barbuda       25 °C\n",
       "4              Argentina       19 °C\n",
       "..                   ...         ...\n",
       "182   Vatican City State        6 °C\n",
       "183            Venezuela       25 °C\n",
       "184              Vietnam       15 °C\n",
       "185               Zambia         NaN\n",
       "186             Zimbabwe         NaN\n",
       "\n",
       "[187 rows x 2 columns]"
      ],
      "text/html": "<div>\n<style scoped>\n    .dataframe tbody tr th:only-of-type {\n        vertical-align: middle;\n    }\n\n    .dataframe tbody tr th {\n        vertical-align: top;\n    }\n\n    .dataframe thead th {\n        text-align: right;\n    }\n</style>\n<table border=\"1\" class=\"dataframe\">\n  <thead>\n    <tr style=\"text-align: right;\">\n      <th></th>\n      <th>Country</th>\n      <th>Temperature</th>\n    </tr>\n  </thead>\n  <tbody>\n    <tr>\n      <th>0</th>\n      <td>Albania</td>\n      <td>13 °C</td>\n    </tr>\n    <tr>\n      <th>1</th>\n      <td>Algeria</td>\n      <td>12 °C</td>\n    </tr>\n    <tr>\n      <th>2</th>\n      <td>Angola</td>\n      <td>29 °C</td>\n    </tr>\n    <tr>\n      <th>3</th>\n      <td>Antigua and Barbuda</td>\n      <td>25 °C</td>\n    </tr>\n    <tr>\n      <th>4</th>\n      <td>Argentina</td>\n      <td>19 °C</td>\n    </tr>\n    <tr>\n      <th>...</th>\n      <td>...</td>\n      <td>...</td>\n    </tr>\n    <tr>\n      <th>182</th>\n      <td>Vatican City State</td>\n      <td>6 °C</td>\n    </tr>\n    <tr>\n      <th>183</th>\n      <td>Venezuela</td>\n      <td>25 °C</td>\n    </tr>\n    <tr>\n      <th>184</th>\n      <td>Vietnam</td>\n      <td>15 °C</td>\n    </tr>\n    <tr>\n      <th>185</th>\n      <td>Zambia</td>\n      <td>NaN</td>\n    </tr>\n    <tr>\n      <th>186</th>\n      <td>Zimbabwe</td>\n      <td>NaN</td>\n    </tr>\n  </tbody>\n</table>\n<p>187 rows × 2 columns</p>\n</div>"
     },
     "metadata": {},
     "execution_count": 118
    }
   ],
   "source": [
    "df"
   ]
  },
  {
   "cell_type": "code",
   "execution_count": 122,
   "metadata": {},
   "outputs": [
    {
     "output_type": "execute_result",
     "data": {
      "text/plain": [
       "                 Country Temperature\n",
       "0                Albania       13 °C\n",
       "1                Algeria       12 °C\n",
       "2                 Angola       29 °C\n",
       "3    Antigua and Barbuda       25 °C\n",
       "4              Argentina       19 °C\n",
       "..                   ...         ...\n",
       "180           Uzbekistan       12 °C\n",
       "181              Vanuatu       26 °C\n",
       "182   Vatican City State        6 °C\n",
       "183            Venezuela       25 °C\n",
       "184              Vietnam       15 °C\n",
       "\n",
       "[183 rows x 2 columns]"
      ],
      "text/html": "<div>\n<style scoped>\n    .dataframe tbody tr th:only-of-type {\n        vertical-align: middle;\n    }\n\n    .dataframe tbody tr th {\n        vertical-align: top;\n    }\n\n    .dataframe thead th {\n        text-align: right;\n    }\n</style>\n<table border=\"1\" class=\"dataframe\">\n  <thead>\n    <tr style=\"text-align: right;\">\n      <th></th>\n      <th>Country</th>\n      <th>Temperature</th>\n    </tr>\n  </thead>\n  <tbody>\n    <tr>\n      <th>0</th>\n      <td>Albania</td>\n      <td>13 °C</td>\n    </tr>\n    <tr>\n      <th>1</th>\n      <td>Algeria</td>\n      <td>12 °C</td>\n    </tr>\n    <tr>\n      <th>2</th>\n      <td>Angola</td>\n      <td>29 °C</td>\n    </tr>\n    <tr>\n      <th>3</th>\n      <td>Antigua and Barbuda</td>\n      <td>25 °C</td>\n    </tr>\n    <tr>\n      <th>4</th>\n      <td>Argentina</td>\n      <td>19 °C</td>\n    </tr>\n    <tr>\n      <th>...</th>\n      <td>...</td>\n      <td>...</td>\n    </tr>\n    <tr>\n      <th>180</th>\n      <td>Uzbekistan</td>\n      <td>12 °C</td>\n    </tr>\n    <tr>\n      <th>181</th>\n      <td>Vanuatu</td>\n      <td>26 °C</td>\n    </tr>\n    <tr>\n      <th>182</th>\n      <td>Vatican City State</td>\n      <td>6 °C</td>\n    </tr>\n    <tr>\n      <th>183</th>\n      <td>Venezuela</td>\n      <td>25 °C</td>\n    </tr>\n    <tr>\n      <th>184</th>\n      <td>Vietnam</td>\n      <td>15 °C</td>\n    </tr>\n  </tbody>\n</table>\n<p>183 rows × 2 columns</p>\n</div>"
     },
     "metadata": {},
     "execution_count": 122
    }
   ],
   "source": [
    "df=df.dropna()\n",
    "df"
   ]
  },
  {
   "cell_type": "code",
   "execution_count": 123,
   "metadata": {},
   "outputs": [
    {
     "output_type": "error",
     "ename": "ValueError",
     "evalue": "Columns must be same length as key",
     "traceback": [
      "\u001b[1;31m---------------------------------------------------------------------------\u001b[0m",
      "\u001b[1;31mValueError\u001b[0m                                Traceback (most recent call last)",
      "\u001b[1;32m<ipython-input-123-7b824cc924ca>\u001b[0m in \u001b[0;36m<module>\u001b[1;34m\u001b[0m\n\u001b[1;32m----> 1\u001b[1;33m \u001b[0mdf\u001b[0m\u001b[1;33m[\u001b[0m\u001b[1;33m[\u001b[0m\u001b[1;34m'Temperature'\u001b[0m\u001b[1;33m,\u001b[0m \u001b[1;34m'C'\u001b[0m\u001b[1;33m]\u001b[0m\u001b[1;33m]\u001b[0m \u001b[1;33m=\u001b[0m \u001b[0mdf\u001b[0m\u001b[1;33m[\u001b[0m\u001b[1;34m'Temperature'\u001b[0m\u001b[1;33m]\u001b[0m\u001b[1;33m.\u001b[0m\u001b[0mstr\u001b[0m\u001b[1;33m.\u001b[0m\u001b[0msplit\u001b[0m\u001b[1;33m(\u001b[0m\u001b[1;34m' '\u001b[0m\u001b[1;33m,\u001b[0m \u001b[1;36m1\u001b[0m\u001b[1;33m,\u001b[0m \u001b[0mexpand\u001b[0m\u001b[1;33m=\u001b[0m\u001b[1;32mTrue\u001b[0m\u001b[1;33m)\u001b[0m\u001b[1;33m\u001b[0m\u001b[1;33m\u001b[0m\u001b[0m\n\u001b[0m",
      "\u001b[1;32m~\\Anaconda3\\lib\\site-packages\\pandas\\core\\frame.py\u001b[0m in \u001b[0;36m__setitem__\u001b[1;34m(self, key, value)\u001b[0m\n\u001b[0;32m   2933\u001b[0m             \u001b[0mself\u001b[0m\u001b[1;33m.\u001b[0m\u001b[0m_setitem_frame\u001b[0m\u001b[1;33m(\u001b[0m\u001b[0mkey\u001b[0m\u001b[1;33m,\u001b[0m \u001b[0mvalue\u001b[0m\u001b[1;33m)\u001b[0m\u001b[1;33m\u001b[0m\u001b[1;33m\u001b[0m\u001b[0m\n\u001b[0;32m   2934\u001b[0m         \u001b[1;32melif\u001b[0m \u001b[0misinstance\u001b[0m\u001b[1;33m(\u001b[0m\u001b[0mkey\u001b[0m\u001b[1;33m,\u001b[0m \u001b[1;33m(\u001b[0m\u001b[0mSeries\u001b[0m\u001b[1;33m,\u001b[0m \u001b[0mnp\u001b[0m\u001b[1;33m.\u001b[0m\u001b[0mndarray\u001b[0m\u001b[1;33m,\u001b[0m \u001b[0mlist\u001b[0m\u001b[1;33m,\u001b[0m \u001b[0mIndex\u001b[0m\u001b[1;33m)\u001b[0m\u001b[1;33m)\u001b[0m\u001b[1;33m:\u001b[0m\u001b[1;33m\u001b[0m\u001b[1;33m\u001b[0m\u001b[0m\n\u001b[1;32m-> 2935\u001b[1;33m             \u001b[0mself\u001b[0m\u001b[1;33m.\u001b[0m\u001b[0m_setitem_array\u001b[0m\u001b[1;33m(\u001b[0m\u001b[0mkey\u001b[0m\u001b[1;33m,\u001b[0m \u001b[0mvalue\u001b[0m\u001b[1;33m)\u001b[0m\u001b[1;33m\u001b[0m\u001b[1;33m\u001b[0m\u001b[0m\n\u001b[0m\u001b[0;32m   2936\u001b[0m         \u001b[1;32melse\u001b[0m\u001b[1;33m:\u001b[0m\u001b[1;33m\u001b[0m\u001b[1;33m\u001b[0m\u001b[0m\n\u001b[0;32m   2937\u001b[0m             \u001b[1;31m# set column\u001b[0m\u001b[1;33m\u001b[0m\u001b[1;33m\u001b[0m\u001b[1;33m\u001b[0m\u001b[0m\n",
      "\u001b[1;32m~\\Anaconda3\\lib\\site-packages\\pandas\\core\\frame.py\u001b[0m in \u001b[0;36m_setitem_array\u001b[1;34m(self, key, value)\u001b[0m\n\u001b[0;32m   2959\u001b[0m             \u001b[1;32mif\u001b[0m \u001b[0misinstance\u001b[0m\u001b[1;33m(\u001b[0m\u001b[0mvalue\u001b[0m\u001b[1;33m,\u001b[0m \u001b[0mDataFrame\u001b[0m\u001b[1;33m)\u001b[0m\u001b[1;33m:\u001b[0m\u001b[1;33m\u001b[0m\u001b[1;33m\u001b[0m\u001b[0m\n\u001b[0;32m   2960\u001b[0m                 \u001b[1;32mif\u001b[0m \u001b[0mlen\u001b[0m\u001b[1;33m(\u001b[0m\u001b[0mvalue\u001b[0m\u001b[1;33m.\u001b[0m\u001b[0mcolumns\u001b[0m\u001b[1;33m)\u001b[0m \u001b[1;33m!=\u001b[0m \u001b[0mlen\u001b[0m\u001b[1;33m(\u001b[0m\u001b[0mkey\u001b[0m\u001b[1;33m)\u001b[0m\u001b[1;33m:\u001b[0m\u001b[1;33m\u001b[0m\u001b[1;33m\u001b[0m\u001b[0m\n\u001b[1;32m-> 2961\u001b[1;33m                     \u001b[1;32mraise\u001b[0m \u001b[0mValueError\u001b[0m\u001b[1;33m(\u001b[0m\u001b[1;34m\"Columns must be same length as key\"\u001b[0m\u001b[1;33m)\u001b[0m\u001b[1;33m\u001b[0m\u001b[1;33m\u001b[0m\u001b[0m\n\u001b[0m\u001b[0;32m   2962\u001b[0m                 \u001b[1;32mfor\u001b[0m \u001b[0mk1\u001b[0m\u001b[1;33m,\u001b[0m \u001b[0mk2\u001b[0m \u001b[1;32min\u001b[0m \u001b[0mzip\u001b[0m\u001b[1;33m(\u001b[0m\u001b[0mkey\u001b[0m\u001b[1;33m,\u001b[0m \u001b[0mvalue\u001b[0m\u001b[1;33m.\u001b[0m\u001b[0mcolumns\u001b[0m\u001b[1;33m)\u001b[0m\u001b[1;33m:\u001b[0m\u001b[1;33m\u001b[0m\u001b[1;33m\u001b[0m\u001b[0m\n\u001b[0;32m   2963\u001b[0m                     \u001b[0mself\u001b[0m\u001b[1;33m[\u001b[0m\u001b[0mk1\u001b[0m\u001b[1;33m]\u001b[0m \u001b[1;33m=\u001b[0m \u001b[0mvalue\u001b[0m\u001b[1;33m[\u001b[0m\u001b[0mk2\u001b[0m\u001b[1;33m]\u001b[0m\u001b[1;33m\u001b[0m\u001b[1;33m\u001b[0m\u001b[0m\n",
      "\u001b[1;31mValueError\u001b[0m: Columns must be same length as key"
     ]
    }
   ],
   "source": [
    "df[['Temperature', 'C']] = df['Temperature'].str.split(' ', 1, expand=True)\n"
   ]
  },
  {
   "cell_type": "code",
   "execution_count": 78,
   "metadata": {},
   "outputs": [
    {
     "output_type": "execute_result",
     "data": {
      "text/plain": [
       "                 Country Temperature\n",
       "0                Albania       13 °C\n",
       "1                Algeria       12 °C\n",
       "2                 Angola       29 °C\n",
       "3    Antigua and Barbuda       25 °C\n",
       "4              Argentina       19 °C\n",
       "..                   ...         ...\n",
       "180           Uzbekistan       12 °C\n",
       "181              Vanuatu       26 °C\n",
       "182   Vatican City State        6 °C\n",
       "183            Venezuela       25 °C\n",
       "184              Vietnam       15 °C\n",
       "\n",
       "[183 rows x 2 columns]"
      ],
      "text/html": "<div>\n<style scoped>\n    .dataframe tbody tr th:only-of-type {\n        vertical-align: middle;\n    }\n\n    .dataframe tbody tr th {\n        vertical-align: top;\n    }\n\n    .dataframe thead th {\n        text-align: right;\n    }\n</style>\n<table border=\"1\" class=\"dataframe\">\n  <thead>\n    <tr style=\"text-align: right;\">\n      <th></th>\n      <th>Country</th>\n      <th>Temperature</th>\n    </tr>\n  </thead>\n  <tbody>\n    <tr>\n      <th>0</th>\n      <td>Albania</td>\n      <td>13 °C</td>\n    </tr>\n    <tr>\n      <th>1</th>\n      <td>Algeria</td>\n      <td>12 °C</td>\n    </tr>\n    <tr>\n      <th>2</th>\n      <td>Angola</td>\n      <td>29 °C</td>\n    </tr>\n    <tr>\n      <th>3</th>\n      <td>Antigua and Barbuda</td>\n      <td>25 °C</td>\n    </tr>\n    <tr>\n      <th>4</th>\n      <td>Argentina</td>\n      <td>19 °C</td>\n    </tr>\n    <tr>\n      <th>...</th>\n      <td>...</td>\n      <td>...</td>\n    </tr>\n    <tr>\n      <th>180</th>\n      <td>Uzbekistan</td>\n      <td>12 °C</td>\n    </tr>\n    <tr>\n      <th>181</th>\n      <td>Vanuatu</td>\n      <td>26 °C</td>\n    </tr>\n    <tr>\n      <th>182</th>\n      <td>Vatican City State</td>\n      <td>6 °C</td>\n    </tr>\n    <tr>\n      <th>183</th>\n      <td>Venezuela</td>\n      <td>25 °C</td>\n    </tr>\n    <tr>\n      <th>184</th>\n      <td>Vietnam</td>\n      <td>15 °C</td>\n    </tr>\n  </tbody>\n</table>\n<p>183 rows × 2 columns</p>\n</div>"
     },
     "metadata": {},
     "execution_count": 78
    }
   ],
   "source": [
    "df1=df.dropna()\n",
    "df1"
   ]
  },
  {
   "cell_type": "code",
   "execution_count": null,
   "metadata": {},
   "outputs": [],
   "source": []
  }
 ]
}